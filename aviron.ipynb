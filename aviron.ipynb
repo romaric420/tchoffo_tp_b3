{
 "cells": [
  {
   "cell_type": "code",
   "execution_count": 2,
   "id": "477a4dd2-a3b0-4974-af87-1fdafe4aca92",
   "metadata": {},
   "outputs": [
    {
     "name": "stdout",
     "output_type": "stream",
     "text": [
      "Mickey a rejoint la course.\n",
      "Minnie a rejoint la course.\n",
      "Picsou n'a pas pu être ajouté à la course.\n",
      "La course commence!\n",
      "Mickey,2015\n",
      "Minnie,2275\n",
      "Le vainqueur est Minnie avec une vitesse de 70.\n"
     ]
    }
   ],
   "source": [
    "class Bateau:\n",
    "    def __init__(self, nom, vitesse):\n",
    "        self.nom = nom\n",
    "        self.vitesse = vitesse\n",
    "        self.distance_parcourue = 0\n",
    "\n",
    "    def avancer(self):\n",
    "        self.distance_parcourue += self.vitesse / 2\n",
    "\n",
    "    def get_distance_parcourue(self):\n",
    "        return self.distance_parcourue\n",
    "\n",
    "\n",
    "class Bateau2x(Bateau):\n",
    "    def __init__(self, nom, vitesse):\n",
    "        super().__init__(nom, vitesse)\n",
    "\n",
    "\n",
    "class BateauSkiff(Bateau):\n",
    "    def __init__(self, nom, vitesse):\n",
    "        super().__init__(nom, vitesse)\n",
    "\n",
    "\n",
    "class Course:\n",
    "    def __init__(self, type_bateau):\n",
    "        self.type_bateau = type_bateau\n",
    "        self.bateaux_en_course = []\n",
    "\n",
    "    def ajout_bateau_ligne_depart(self, bateau):\n",
    "        if isinstance(bateau, Bateau) and isinstance(bateau, eval(f\"{self.type_bateau}\")):\n",
    "            self.bateaux_en_course.append(bateau)\n",
    "            print(f\"{bateau.nom} a rejoint la course.\")\n",
    "        else:\n",
    "            print(f\"{bateau.nom} n'a pas pu être ajouté à la course.\")\n",
    "\n",
    "    def depart(self):\n",
    "        print(\"La course commence!\")\n",
    "\n",
    "    def en_cours(self):\n",
    "        for bateau in self.bateaux_en_course:\n",
    "            if bateau.get_distance_parcourue() < 2000:\n",
    "                return True\n",
    "        return False\n",
    "\n",
    "    def next_loop(self):\n",
    "        for bateau in self.bateaux_en_course:\n",
    "            bateau.avancer()\n",
    "\n",
    "    def affiche_positions(self):\n",
    "        positions = [f\"{bateau.nom},{int(bateau.get_distance_parcourue())}\" for bateau in self.bateaux_en_course]\n",
    "        return \"\\n\".join(positions)\n",
    "\n",
    "    def vainqueur(self):\n",
    "        fastest = max(self.bateaux_en_course, key=lambda x: x.vitesse)\n",
    "        return f\"Le vainqueur est {fastest.nom} avec une vitesse de {fastest.vitesse}.\"\n",
    "\n",
    "\n",
    "course_cadets = Course('Bateau2x')\n",
    "bateau_1_2x = Bateau2x('Mickey', 62)\n",
    "bateau_2_2x = Bateau2x('Minnie', 70)\n",
    "bateau_3_skiff = BateauSkiff('Picsou', 120)\n",
    "\n",
    "course_cadets.ajout_bateau_ligne_depart(bateau_1_2x)\n",
    "course_cadets.ajout_bateau_ligne_depart(bateau_2_2x)\n",
    "course_cadets.ajout_bateau_ligne_depart(bateau_3_skiff)\n",
    "\n",
    "course_cadets.depart()\n",
    "\n",
    "while course_cadets.en_cours():\n",
    "    course_cadets.next_loop()\n",
    "\n",
    "print(course_cadets.affiche_positions())\n",
    "print(course_cadets.vainqueur())\n"
   ]
  },
  {
   "cell_type": "code",
   "execution_count": null,
   "id": "8618a2e8-ea8d-4ebc-b1ac-11b779cd9caa",
   "metadata": {},
   "outputs": [],
   "source": []
  }
 ],
 "metadata": {
  "kernelspec": {
   "display_name": "Python 3 (ipykernel)",
   "language": "python",
   "name": "python3"
  },
  "language_info": {
   "codemirror_mode": {
    "name": "ipython",
    "version": 3
   },
   "file_extension": ".py",
   "mimetype": "text/x-python",
   "name": "python",
   "nbconvert_exporter": "python",
   "pygments_lexer": "ipython3",
   "version": "3.11.5"
  }
 },
 "nbformat": 4,
 "nbformat_minor": 5
}

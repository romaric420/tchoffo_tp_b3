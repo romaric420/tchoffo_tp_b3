{
 "cells": [
  {
   "cell_type": "code",
   "execution_count": 1,
   "id": "262405dc-fbe1-4ef8-bd23-bff8037e5a48",
   "metadata": {},
   "outputs": [
    {
     "name": "stdout",
     "output_type": "stream",
     "text": [
      "{'root': 'password'}\n"
     ]
    }
   ],
   "source": [
    "def produce_default_dict():\n",
    "    default_dict = {'root': 'password'}\n",
    "    return default_dict\n",
    "result = produce_default_dict()\n",
    "print(result)\n"
   ]
  },
  {
   "cell_type": "code",
   "execution_count": 2,
   "id": "60116736-3e9f-4978-a93a-732952e989a7",
   "metadata": {},
   "outputs": [
    {
     "name": "stdout",
     "output_type": "stream",
     "text": [
      "Bonjour 'gael', vous avez actuellement 24 ans.\n",
      "Bonjour 'bébé', vous avez actuellement 0 ans.\n"
     ]
    }
   ],
   "source": [
    "def salutation(nom, age):\n",
    "    message = f\"Bonjour '{nom}', vous avez actuellement {age} an{'s' if int(age) != 1 else ''}.\"\n",
    "    print(message)\n",
    "\n",
    "salutation('gael', '24')\n",
    "salutation('bébé', '0')"
   ]
  },
  {
   "cell_type": "code",
   "execution_count": 3,
   "id": "bf7be53b-389a-4844-8c78-64a87d99eb80",
   "metadata": {},
   "outputs": [
    {
     "name": "stdout",
     "output_type": "stream",
     "text": [
      "1,2,4,8\n"
     ]
    }
   ],
   "source": [
    "def power_2(limites):\n",
    "    current_power = 0\n",
    "    powers = []\n",
    "    \n",
    "    while 2 ** current_power <= limites:\n",
    "        powers.append(str(2 ** current_power))\n",
    "        current_power += 1\n",
    "\n",
    "    result = \",\".join(powers)\n",
    "    print(result)\n",
    "\n",
    "power_2(10)\n"
   ]
  },
  {
   "cell_type": "code",
   "execution_count": 5,
   "id": "69ae8b36-f397-4234-9b9b-07c95bc38b26",
   "metadata": {},
   "outputs": [
    {
     "name": "stdout",
     "output_type": "stream",
     "text": [
      "True\n",
      "False\n"
     ]
    }
   ],
   "source": [
    "def check_ip_format(ip):\n",
    "    octets = ip.split('.')\n",
    "    if len(octets) != 4:\n",
    "        return False\n",
    "    try:\n",
    "        for octet in octets:\n",
    "            if not (0 <= int(octet) <= 255):\n",
    "                return False\n",
    "    except ValueError:\n",
    "        return False\n",
    "\n",
    "    return True\n",
    "print(check_ip_format('10.0.0.0')) \n",
    "print(check_ip_format('192.12.'))   \n"
   ]
  },
  {
   "cell_type": "code",
   "execution_count": null,
   "id": "b2b95963-7c75-4350-a578-d10357bc638e",
   "metadata": {},
   "outputs": [],
   "source": []
  }
 ],
 "metadata": {
  "kernelspec": {
   "display_name": "Python 3 (ipykernel)",
   "language": "python",
   "name": "python3"
  },
  "language_info": {
   "codemirror_mode": {
    "name": "ipython",
    "version": 3
   },
   "file_extension": ".py",
   "mimetype": "text/x-python",
   "name": "python",
   "nbconvert_exporter": "python",
   "pygments_lexer": "ipython3",
   "version": "3.11.5"
  }
 },
 "nbformat": 4,
 "nbformat_minor": 5
}

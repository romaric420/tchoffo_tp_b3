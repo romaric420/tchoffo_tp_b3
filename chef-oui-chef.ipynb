{
 "cells": [
  {
   "cell_type": "code",
   "execution_count": 1,
   "id": "02dca7b6-33c8-406d-a49d-03389639f2a2",
   "metadata": {},
   "outputs": [
    {
     "name": "stdout",
     "output_type": "stream",
     "text": [
      "1\n",
      "0\n",
      "4\n",
      "0\n",
      "0\n",
      "4\n"
     ]
    }
   ],
   "source": [
    "def check_salute(corridor):\n",
    "\n",
    "    if not isinstance(corridor, str):\n",
    "        return 0\n",
    "\n",
    "    salutes = 0\n",
    "    left_to_right = 0\n",
    "\n",
    "    for char in corridor:\n",
    "        if char == '>':\n",
    "            left_to_right += 1\n",
    "        elif char == '<':\n",
    "            salutes += left_to_right\n",
    "\n",
    "    return salutes\n",
    "\n",
    "print(check_salute(\"->-------------<-------\"))  \n",
    "print(check_salute(\"-<------------->-------\")) \n",
    "print(check_salute(\"-->>----<<-\")) \n",
    "print(check_salute(\"--->--->----->-\")) \n",
    "print(check_salute(\"CHEF, OUI CHEF\")) \n",
    "print(check_salute(\"---<---->-->----<<-->\"))  \n"
   ]
  },
  {
   "cell_type": "code",
   "execution_count": null,
   "id": "0bf2e9fd-02b0-41b7-b32c-d441fc56aab8",
   "metadata": {},
   "outputs": [],
   "source": []
  }
 ],
 "metadata": {
  "kernelspec": {
   "display_name": "Python 3 (ipykernel)",
   "language": "python",
   "name": "python3"
  },
  "language_info": {
   "codemirror_mode": {
    "name": "ipython",
    "version": 3
   },
   "file_extension": ".py",
   "mimetype": "text/x-python",
   "name": "python",
   "nbconvert_exporter": "python",
   "pygments_lexer": "ipython3",
   "version": "3.11.5"
  }
 },
 "nbformat": 4,
 "nbformat_minor": 5
}
